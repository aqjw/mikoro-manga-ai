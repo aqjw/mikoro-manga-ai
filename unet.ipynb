{
 "cells": [
  {
   "cell_type": "markdown",
   "id": "c5cd5345eb08224b",
   "metadata": {
    "collapsed": false
   },
   "source": [
    "## Colab"
   ]
  },
  {
   "cell_type": "code",
   "execution_count": null,
   "id": "e40ceb9126b60d7d",
   "metadata": {
    "collapsed": false
   },
   "outputs": [],
   "source": [
    "from google.colab import drive\n",
    "drive.mount('/content/drive')"
   ]
  },
  {
   "cell_type": "code",
   "execution_count": null,
   "id": "14de3b33800b3c17",
   "metadata": {
    "collapsed": false
   },
   "outputs": [],
   "source": [
    "import os\n",
    "os.chdir(\"/content/drive/My Drive/Colab Notebooks/Mana-Rise\")"
   ]
  },
  {
   "cell_type": "code",
   "execution_count": null,
   "id": "5e4a4710f44e45e4",
   "metadata": {
    "collapsed": false
   },
   "outputs": [],
   "source": [
    "!apt-get install python3-pyqt5\n",
    "!apt-get install python3-pyside\n",
    "!pip install pyside2\n",
    "!pip install labelme"
   ]
  },
  {
   "cell_type": "markdown",
   "id": "2a576f3009680704",
   "metadata": {
    "collapsed": false
   },
   "source": [
    "## Train"
   ]
  },
  {
   "cell_type": "code",
   "execution_count": null,
   "id": "a33f7b69eb650817",
   "metadata": {
    "collapsed": false
   },
   "outputs": [],
   "source": [
    "!chmod +x app/labelme2voc.py\n",
    "!make re-voc"
   ]
  },
  {
   "cell_type": "code",
   "execution_count": null,
   "id": "8ab98d786eaef9d8",
   "metadata": {
    "collapsed": false
   },
   "outputs": [],
   "source": [
    "from train import train\n",
    "# train(max_samples=49)\n",
    "train()"
   ]
  },
  {
   "cell_type": "code",
   "outputs": [],
   "source": [
    "# 1-49 padding fixed"
   ],
   "metadata": {
    "collapsed": false
   },
   "id": "60beb1da6c187ae2"
  },
  {
   "cell_type": "code",
   "outputs": [],
   "source": [
    "# from google.colab import files\n",
    "from model import build_model\n",
    "from app.predict import train_predict\n",
    "import matplotlib.pyplot as plt\n",
    "\n",
    "# Побудова моделі та прогнозування\n",
    "model = build_model('logs/the-last-model.weights.h5')\n",
    "mask = train_predict(model, './datasets/test/3.png')\n",
    "mask.save('./datasets/test/mask.png')\n",
    " \n",
    "# Візуалізація результату\n",
    "plt.figure(figsize=(10, 10))\n",
    "plt.imshow(mask)\n",
    "plt.axis('off')\n",
    "plt.show()\n"
   ],
   "metadata": {
    "collapsed": false
   },
   "id": "813f2431ca6cff34",
   "execution_count": null
  },
  {
   "cell_type": "code",
   "outputs": [],
   "source": [],
   "metadata": {
    "collapsed": false
   },
   "id": "b051b9b9c35a5c38"
  }
 ],
 "metadata": {
  "kernelspec": {
   "display_name": "Python 3 (ipykernel)",
   "language": "python",
   "name": "python3"
  },
  "language_info": {
   "codemirror_mode": {
    "name": "ipython",
    "version": 3
   },
   "file_extension": ".py",
   "mimetype": "text/x-python",
   "name": "python",
   "nbconvert_exporter": "python",
   "pygments_lexer": "ipython3",
   "version": "3.10.14"
  }
 },
 "nbformat": 4,
 "nbformat_minor": 5
}
